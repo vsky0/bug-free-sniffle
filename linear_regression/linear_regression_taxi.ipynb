{
 "cells": [
  {
   "cell_type": "markdown",
   "id": "63512bc5-143a-4d38-9383-5bf65bf0d1dd",
   "metadata": {},
   "source": [
    "## Load Dependecies"
   ]
  },
  {
   "cell_type": "code",
   "execution_count": 1,
   "id": "92c49f26-7d1e-42ef-8226-db3a22d41538",
   "metadata": {},
   "outputs": [],
   "source": [
    "#@title import dependencies\n",
    "\n",
    "import io\n",
    "\n",
    "import numpy as np\n",
    "import pandas as pd\n",
    "\n",
    "import matplotlib.pyplot as plt\n",
    "import seaborn as sns"
   ]
  }
 ],
 "metadata": {
  "kernelspec": {
   "display_name": "DSML",
   "language": "python",
   "name": "dsml"
  },
  "language_info": {
   "codemirror_mode": {
    "name": "ipython",
    "version": 3
   },
   "file_extension": ".py",
   "mimetype": "text/x-python",
   "name": "python",
   "nbconvert_exporter": "python",
   "pygments_lexer": "ipython3",
   "version": "3.12.4"
  }
 },
 "nbformat": 4,
 "nbformat_minor": 5
}
