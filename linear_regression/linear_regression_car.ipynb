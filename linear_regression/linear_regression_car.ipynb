{
 "cells": [
  {
   "cell_type": "code",
   "execution_count": 1,
   "id": "ca84b20a-3f96-4a45-91c1-877a5178a280",
   "metadata": {},
   "outputs": [],
   "source": [
    "import numpy as np\n",
    "import pandas as pd\n",
    "\n",
    "import matplotlib.pyplot as plt\n",
    "import seaborn as sns\n",
    "\n",
    "plt.style.use(\"ggplot\")"
   ]
  },
  {
   "cell_type": "code",
   "execution_count": 2,
   "id": "ca5af574-b776-48f1-ba72-447dc85f3394",
   "metadata": {},
   "outputs": [],
   "source": [
    "np.random.seed(42)\n",
    "num_samples = 100"
   ]
  },
  {
   "cell_type": "code",
   "execution_count": 3,
   "id": "bc287cfa-652f-44ac-90a9-4ea79d30037a",
   "metadata": {},
   "outputs": [],
   "source": [
    "data = {\n",
    "    \"pounds\": [3.50, 3.69, 3.44, 3.43, 4.34, 4.42, 2.37],\n",
    "    \"miles\": [18, 15, 18, 16, 15, 14, 24]\n",
    "}\n",
    "\n",
    "df = pd.DataFrame(data)"
   ]
  },
  {
   "cell_type": "code",
   "execution_count": 5,
   "id": "2dd78794-4eb8-4d06-9b8e-4a6fc0fa2e44",
   "metadata": {},
   "outputs": [],
   "source": [
    "# generating synthetic data\n",
    "pounds_mean = df[\"pounds\"].mean()\n",
    "pounds_std = df[\"pounds\"].std()\n",
    "\n",
    "synthetic_pounds = np.random.normal(pounds_mean, pounds_std, num_samples)"
   ]
  },
  {
   "cell_type": "code",
   "execution_count": 6,
   "id": "0bade428-a73c-47ca-a4ff-bfd3deff4ecf",
   "metadata": {},
   "outputs": [],
   "source": [
    "# generating miles synthetic data\n",
    "\n",
    "miles_mean = df[\"miles\"].mean()\n",
    "miles_std  = df[\"miles\"].std()\n",
    "\n",
    "synthetic_miles = np.random.normal(miles_mean, miles_std, num_samples)"
   ]
  },
  {
   "cell_type": "code",
   "execution_count": 7,
   "id": "ce5ad5c5-3158-4151-bb88-0d616d9afeae",
   "metadata": {},
   "outputs": [
    {
     "data": {
      "text/html": [
       "<div>\n",
       "<style scoped>\n",
       "    .dataframe tbody tr th:only-of-type {\n",
       "        vertical-align: middle;\n",
       "    }\n",
       "\n",
       "    .dataframe tbody tr th {\n",
       "        vertical-align: top;\n",
       "    }\n",
       "\n",
       "    .dataframe thead th {\n",
       "        text-align: right;\n",
       "    }\n",
       "</style>\n",
       "<table border=\"1\" class=\"dataframe\">\n",
       "  <thead>\n",
       "    <tr style=\"text-align: right;\">\n",
       "      <th></th>\n",
       "      <th>pounds</th>\n",
       "      <th>miles</th>\n",
       "    </tr>\n",
       "  </thead>\n",
       "  <tbody>\n",
       "    <tr>\n",
       "      <th>0</th>\n",
       "      <td>3.938224</td>\n",
       "      <td>12.348073</td>\n",
       "    </tr>\n",
       "    <tr>\n",
       "      <th>1</th>\n",
       "      <td>3.504026</td>\n",
       "      <td>15.717857</td>\n",
       "    </tr>\n",
       "    <tr>\n",
       "      <th>2</th>\n",
       "      <td>4.041460</td>\n",
       "      <td>15.981859</td>\n",
       "    </tr>\n",
       "    <tr>\n",
       "      <th>3</th>\n",
       "      <td>4.640018</td>\n",
       "      <td>14.425020</td>\n",
       "    </tr>\n",
       "    <tr>\n",
       "      <th>4</th>\n",
       "      <td>3.438458</td>\n",
       "      <td>16.596477</td>\n",
       "    </tr>\n",
       "  </tbody>\n",
       "</table>\n",
       "</div>"
      ],
      "text/plain": [
       "     pounds      miles\n",
       "0  3.938224  12.348073\n",
       "1  3.504026  15.717857\n",
       "2  4.041460  15.981859\n",
       "3  4.640018  14.425020\n",
       "4  3.438458  16.596477"
      ]
     },
     "execution_count": 7,
     "metadata": {},
     "output_type": "execute_result"
    }
   ],
   "source": [
    "syn_df  = pd.DataFrame({\n",
    "    \"pounds\":synthetic_pounds,\n",
    "    \"miles\":synthetic_miles\n",
    "})\n",
    "syn_df.head()"
   ]
  },
  {
   "cell_type": "code",
   "execution_count": 8,
   "id": "ca9ea8a3-0d22-421b-8a2b-3cfcbe3ccecb",
   "metadata": {},
   "outputs": [
    {
     "data": {
      "text/html": [
       "<div>\n",
       "<style scoped>\n",
       "    .dataframe tbody tr th:only-of-type {\n",
       "        vertical-align: middle;\n",
       "    }\n",
       "\n",
       "    .dataframe tbody tr th {\n",
       "        vertical-align: top;\n",
       "    }\n",
       "\n",
       "    .dataframe thead th {\n",
       "        text-align: right;\n",
       "    }\n",
       "</style>\n",
       "<table border=\"1\" class=\"dataframe\">\n",
       "  <thead>\n",
       "    <tr style=\"text-align: right;\">\n",
       "      <th></th>\n",
       "      <th>pounds</th>\n",
       "      <th>miles</th>\n",
       "    </tr>\n",
       "  </thead>\n",
       "  <tbody>\n",
       "    <tr>\n",
       "      <th>count</th>\n",
       "      <td>100.000000</td>\n",
       "      <td>100.000000</td>\n",
       "    </tr>\n",
       "    <tr>\n",
       "      <th>mean</th>\n",
       "      <td>3.527561</td>\n",
       "      <td>17.218417</td>\n",
       "    </tr>\n",
       "    <tr>\n",
       "      <th>std</th>\n",
       "      <td>0.621005</td>\n",
       "      <td>3.230699</td>\n",
       "    </tr>\n",
       "    <tr>\n",
       "      <th>min</th>\n",
       "      <td>1.807193</td>\n",
       "      <td>10.642727</td>\n",
       "    </tr>\n",
       "    <tr>\n",
       "      <th>25%</th>\n",
       "      <td>3.187673</td>\n",
       "      <td>14.413559</td>\n",
       "    </tr>\n",
       "    <tr>\n",
       "      <th>50%</th>\n",
       "      <td>3.511759</td>\n",
       "      <td>17.427783</td>\n",
       "    </tr>\n",
       "    <tr>\n",
       "      <th>75%</th>\n",
       "      <td>3.876161</td>\n",
       "      <td>18.965992</td>\n",
       "    </tr>\n",
       "    <tr>\n",
       "      <th>max</th>\n",
       "      <td>4.865157</td>\n",
       "      <td>26.357845</td>\n",
       "    </tr>\n",
       "  </tbody>\n",
       "</table>\n",
       "</div>"
      ],
      "text/plain": [
       "           pounds       miles\n",
       "count  100.000000  100.000000\n",
       "mean     3.527561   17.218417\n",
       "std      0.621005    3.230699\n",
       "min      1.807193   10.642727\n",
       "25%      3.187673   14.413559\n",
       "50%      3.511759   17.427783\n",
       "75%      3.876161   18.965992\n",
       "max      4.865157   26.357845"
      ]
     },
     "execution_count": 8,
     "metadata": {},
     "output_type": "execute_result"
    }
   ],
   "source": [
    "syn_df.describe()"
   ]
  },
  {
   "cell_type": "code",
   "execution_count": 11,
   "id": "ed3392b7-34e8-44b4-99ff-575e68843e7f",
   "metadata": {
    "scrolled": true
   },
   "outputs": [
    {
     "data": {
      "image/png": "[encoded data removed]",
      "text/plain": [
       "<Figure size 640x480 with 1 Axes>"
      ]
     },
     "metadata": {},
     "output_type": "display_data"
    }
   ],
   "source": [
    "plt.scatter(syn_df[\"pounds\"], syn_df[\"miles\"], color=\"green\", label=\"synthetic data\")\n",
    "\n",
    "# labels = [\"pounds\", \"miles\"]\n",
    "\n",
    "plt.xlabel(\"pounds\")\n",
    "plt.ylabel(\"miles\")\n",
    "plt.title(\"scatter plot of pounds and miles\")\n",
    "plt.legend(labels)\n",
    "\n",
    "plt.show()"
   ]
  },
  {
   "cell_type": "code",
   "execution_count": 12,
   "id": "d3710716-2619-449d-a9d7-9fa70c933390",
   "metadata": {},
   "outputs": [
    {
     "data": {
      "image/png": "[encoded data removed]",
      "text/plain": [
       "<Figure size 640x480 with 1 Axes>"
      ]
     },
     "metadata": {},
     "output_type": "display_data"
    }
   ],
   "source": [
    "plt.scatter(df[\"pounds\"], df[\"miles\"], color=\"green\", label=\"synthetic data\")\n",
    "\n",
    "# labels = [\"pounds\", \"miles\"]\n",
    "\n",
    "plt.xlabel(\"pounds\")\n",
    "plt.ylabel(\"miles\")\n",
    "plt.title(\"scatter plot of pounds and miles\")\n",
    "plt.legend(labels)\n",
    "\n",
    "plt.show()"
   ]
  },
  {
   "cell_type": "code",
   "execution_count": null,
   "id": "16fae0af-6f1c-4342-965a-ce2fbb90e253",
   "metadata": {},
   "outputs": [],
   "source": []
  }
 ],
 "metadata": {
  "kernelspec": {
   "display_name": "DSML",
   "language": "python",
   "name": "dsml"
  },
  "language_info": {
   "codemirror_mode": {
    "name": "ipython",
    "version": 3
   },
   "file_extension": ".py",
   "mimetype": "text/x-python",
   "name": "python",
   "nbconvert_exporter": "python",
   "pygments_lexer": "ipython3",
   "version": "3.12.4"
  }
 },
 "nbformat": 4,
 "nbformat_minor": 5
}
