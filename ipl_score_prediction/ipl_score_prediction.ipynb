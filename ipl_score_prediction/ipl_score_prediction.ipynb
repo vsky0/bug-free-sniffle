{
 "cells": [
  {
   "cell_type": "markdown",
   "id": "4f8a0922-5697-4e3d-b109-d8c7589bcaf0",
   "metadata": {},
   "source": [
    "# IPL Score prediction"
   ]
  },
  {
   "cell_type": "code",
   "execution_count": 1,
   "id": "2c020dea-367b-40a1-98c3-f94a831c02fe",
   "metadata": {},
   "outputs": [],
   "source": [
    "import pandas as pd\n",
    "import numpy as np\n",
    "\n",
    "import matplotlib.pyplot as plt\n",
    "import seaborn as sns\n",
    "\n",
    "plt.style.use(\"ggplot\")"
   ]
  },
  {
   "cell_type": "code",
   "execution_count": 2,
   "id": "7d350f6c-1cdc-458b-88ca-014ae2ad2ad2",
   "metadata": {
    "scrolled": true
   },
   "outputs": [
    {
     "data": {
      "text/html": [
       "<div>\n",
       "<style scoped>\n",
       "    .dataframe tbody tr th:only-of-type {\n",
       "        vertical-align: middle;\n",
       "    }\n",
       "\n",
       "    .dataframe tbody tr th {\n",
       "        vertical-align: top;\n",
       "    }\n",
       "\n",
       "    .dataframe thead th {\n",
       "        text-align: right;\n",
       "    }\n",
       "</style>\n",
       "<table border=\"1\" class=\"dataframe\">\n",
       "  <thead>\n",
       "    <tr style=\"text-align: right;\">\n",
       "      <th></th>\n",
       "      <th>mid</th>\n",
       "      <th>date</th>\n",
       "      <th>venue</th>\n",
       "      <th>bat_team</th>\n",
       "      <th>bowl_team</th>\n",
       "      <th>batsman</th>\n",
       "      <th>bowler</th>\n",
       "      <th>runs</th>\n",
       "      <th>wickets</th>\n",
       "      <th>overs</th>\n",
       "      <th>runs_last_5</th>\n",
       "      <th>wickets_last_5</th>\n",
       "      <th>striker</th>\n",
       "      <th>non-striker</th>\n",
       "      <th>total</th>\n",
       "    </tr>\n",
       "  </thead>\n",
       "  <tbody>\n",
       "    <tr>\n",
       "      <th>11573</th>\n",
       "      <td>94</td>\n",
       "      <td>2009-05-13</td>\n",
       "      <td>Kingsmead</td>\n",
       "      <td>Delhi Daredevils</td>\n",
       "      <td>Deccan Chargers</td>\n",
       "      <td>KD Karthik</td>\n",
       "      <td>PP Ojha</td>\n",
       "      <td>139</td>\n",
       "      <td>6</td>\n",
       "      <td>17.5</td>\n",
       "      <td>45</td>\n",
       "      <td>3</td>\n",
       "      <td>17</td>\n",
       "      <td>0</td>\n",
       "      <td>173</td>\n",
       "    </tr>\n",
       "    <tr>\n",
       "      <th>37933</th>\n",
       "      <td>308</td>\n",
       "      <td>2012-05-20</td>\n",
       "      <td>Rajiv Gandhi International Stadium, Uppal</td>\n",
       "      <td>Deccan Chargers</td>\n",
       "      <td>Royal Challengers Bangalore</td>\n",
       "      <td>CL White</td>\n",
       "      <td>R Vinay Kumar</td>\n",
       "      <td>20</td>\n",
       "      <td>2</td>\n",
       "      <td>3.6</td>\n",
       "      <td>20</td>\n",
       "      <td>2</td>\n",
       "      <td>6</td>\n",
       "      <td>1</td>\n",
       "      <td>132</td>\n",
       "    </tr>\n",
       "    <tr>\n",
       "      <th>11946</th>\n",
       "      <td>97</td>\n",
       "      <td>2009-05-15</td>\n",
       "      <td>OUTsurance Oval</td>\n",
       "      <td>Delhi Daredevils</td>\n",
       "      <td>Kings XI Punjab</td>\n",
       "      <td>R Bhatia</td>\n",
       "      <td>B Lee</td>\n",
       "      <td>111</td>\n",
       "      <td>8</td>\n",
       "      <td>18.1</td>\n",
       "      <td>33</td>\n",
       "      <td>4</td>\n",
       "      <td>29</td>\n",
       "      <td>0</td>\n",
       "      <td>120</td>\n",
       "    </tr>\n",
       "    <tr>\n",
       "      <th>71094</th>\n",
       "      <td>577</td>\n",
       "      <td>2017-04-17</td>\n",
       "      <td>Feroz Shah Kotla</td>\n",
       "      <td>Delhi Daredevils</td>\n",
       "      <td>Kolkata Knight Riders</td>\n",
       "      <td>CH Morris</td>\n",
       "      <td>SP Narine</td>\n",
       "      <td>150</td>\n",
       "      <td>5</td>\n",
       "      <td>17.4</td>\n",
       "      <td>50</td>\n",
       "      <td>3</td>\n",
       "      <td>37</td>\n",
       "      <td>4</td>\n",
       "      <td>168</td>\n",
       "    </tr>\n",
       "    <tr>\n",
       "      <th>17247</th>\n",
       "      <td>140</td>\n",
       "      <td>2010-04-01</td>\n",
       "      <td>Eden Gardens</td>\n",
       "      <td>Kolkata Knight Riders</td>\n",
       "      <td>Deccan Chargers</td>\n",
       "      <td>CA Pujara</td>\n",
       "      <td>A Symonds</td>\n",
       "      <td>40</td>\n",
       "      <td>1</td>\n",
       "      <td>5.2</td>\n",
       "      <td>32</td>\n",
       "      <td>1</td>\n",
       "      <td>16</td>\n",
       "      <td>13</td>\n",
       "      <td>181</td>\n",
       "    </tr>\n",
       "    <tr>\n",
       "      <th>68556</th>\n",
       "      <td>557</td>\n",
       "      <td>2016-05-25</td>\n",
       "      <td>Feroz Shah Kotla</td>\n",
       "      <td>Sunrisers Hyderabad</td>\n",
       "      <td>Kolkata Knight Riders</td>\n",
       "      <td>Yuvraj Singh</td>\n",
       "      <td>R Sathish</td>\n",
       "      <td>75</td>\n",
       "      <td>3</td>\n",
       "      <td>11.3</td>\n",
       "      <td>31</td>\n",
       "      <td>2</td>\n",
       "      <td>3</td>\n",
       "      <td>1</td>\n",
       "      <td>162</td>\n",
       "    </tr>\n",
       "    <tr>\n",
       "      <th>33166</th>\n",
       "      <td>269</td>\n",
       "      <td>2012-04-22</td>\n",
       "      <td>Barabati Stadium</td>\n",
       "      <td>Deccan Chargers</td>\n",
       "      <td>Kolkata Knight Riders</td>\n",
       "      <td>CL White</td>\n",
       "      <td>R Bhatia</td>\n",
       "      <td>84</td>\n",
       "      <td>2</td>\n",
       "      <td>11.5</td>\n",
       "      <td>36</td>\n",
       "      <td>1</td>\n",
       "      <td>44</td>\n",
       "      <td>2</td>\n",
       "      <td>126</td>\n",
       "    </tr>\n",
       "    <tr>\n",
       "      <th>71466</th>\n",
       "      <td>580</td>\n",
       "      <td>2017-04-19</td>\n",
       "      <td>Rajiv Gandhi International Stadium, Uppal</td>\n",
       "      <td>Sunrisers Hyderabad</td>\n",
       "      <td>Delhi Daredevils</td>\n",
       "      <td>Yuvraj Singh</td>\n",
       "      <td>AD Mathews</td>\n",
       "      <td>163</td>\n",
       "      <td>2</td>\n",
       "      <td>17.4</td>\n",
       "      <td>57</td>\n",
       "      <td>1</td>\n",
       "      <td>63</td>\n",
       "      <td>3</td>\n",
       "      <td>191</td>\n",
       "    </tr>\n",
       "    <tr>\n",
       "      <th>14135</th>\n",
       "      <td>115</td>\n",
       "      <td>2010-03-14</td>\n",
       "      <td>MA Chidambaram Stadium, Chepauk</td>\n",
       "      <td>Deccan Chargers</td>\n",
       "      <td>Chennai Super Kings</td>\n",
       "      <td>HH Gibbs</td>\n",
       "      <td>R Ashwin</td>\n",
       "      <td>66</td>\n",
       "      <td>2</td>\n",
       "      <td>8.3</td>\n",
       "      <td>18</td>\n",
       "      <td>2</td>\n",
       "      <td>7</td>\n",
       "      <td>2</td>\n",
       "      <td>190</td>\n",
       "    </tr>\n",
       "    <tr>\n",
       "      <th>69756</th>\n",
       "      <td>567</td>\n",
       "      <td>2017-04-10</td>\n",
       "      <td>Holkar Cricket Stadium</td>\n",
       "      <td>Royal Challengers Bangalore</td>\n",
       "      <td>Kings XI Punjab</td>\n",
       "      <td>AB de Villiers</td>\n",
       "      <td>VR Aaron</td>\n",
       "      <td>19</td>\n",
       "      <td>2</td>\n",
       "      <td>4.2</td>\n",
       "      <td>19</td>\n",
       "      <td>2</td>\n",
       "      <td>11</td>\n",
       "      <td>0</td>\n",
       "      <td>148</td>\n",
       "    </tr>\n",
       "  </tbody>\n",
       "</table>\n",
       "</div>"
      ],
      "text/plain": [
       "       mid        date                                      venue  \\\n",
       "11573   94  2009-05-13                                  Kingsmead   \n",
       "37933  308  2012-05-20  Rajiv Gandhi International Stadium, Uppal   \n",
       "11946   97  2009-05-15                            OUTsurance Oval   \n",
       "71094  577  2017-04-17                           Feroz Shah Kotla   \n",
       "17247  140  2010-04-01                               Eden Gardens   \n",
       "68556  557  2016-05-25                           Feroz Shah Kotla   \n",
       "33166  269  2012-04-22                           Barabati Stadium   \n",
       "71466  580  2017-04-19  Rajiv Gandhi International Stadium, Uppal   \n",
       "14135  115  2010-03-14            MA Chidambaram Stadium, Chepauk   \n",
       "69756  567  2017-04-10                     Holkar Cricket Stadium   \n",
       "\n",
       "                          bat_team                    bowl_team  \\\n",
       "11573             Delhi Daredevils              Deccan Chargers   \n",
       "37933              Deccan Chargers  Royal Challengers Bangalore   \n",
       "11946             Delhi Daredevils              Kings XI Punjab   \n",
       "71094             Delhi Daredevils        Kolkata Knight Riders   \n",
       "17247        Kolkata Knight Riders              Deccan Chargers   \n",
       "68556          Sunrisers Hyderabad        Kolkata Knight Riders   \n",
       "33166              Deccan Chargers        Kolkata Knight Riders   \n",
       "71466          Sunrisers Hyderabad             Delhi Daredevils   \n",
       "14135              Deccan Chargers          Chennai Super Kings   \n",
       "69756  Royal Challengers Bangalore              Kings XI Punjab   \n",
       "\n",
       "              batsman         bowler  runs  wickets  overs  runs_last_5  \\\n",
       "11573      KD Karthik        PP Ojha   139        6   17.5           45   \n",
       "37933        CL White  R Vinay Kumar    20        2    3.6           20   \n",
       "11946        R Bhatia          B Lee   111        8   18.1           33   \n",
       "71094       CH Morris      SP Narine   150        5   17.4           50   \n",
       "17247       CA Pujara      A Symonds    40        1    5.2           32   \n",
       "68556    Yuvraj Singh      R Sathish    75        3   11.3           31   \n",
       "33166        CL White       R Bhatia    84        2   11.5           36   \n",
       "71466    Yuvraj Singh     AD Mathews   163        2   17.4           57   \n",
       "14135        HH Gibbs       R Ashwin    66        2    8.3           18   \n",
       "69756  AB de Villiers       VR Aaron    19        2    4.2           19   \n",
       "\n",
       "       wickets_last_5  striker  non-striker  total  \n",
       "11573               3       17            0    173  \n",
       "37933               2        6            1    132  \n",
       "11946               4       29            0    120  \n",
       "71094               3       37            4    168  \n",
       "17247               1       16           13    181  \n",
       "68556               2        3            1    162  \n",
       "33166               1       44            2    126  \n",
       "71466               1       63            3    191  \n",
       "14135               2        7            2    190  \n",
       "69756               2       11            0    148  "
      ]
     },
     "execution_count": 2,
     "metadata": {},
     "output_type": "execute_result"
    }
   ],
   "source": [
    "df = pd.read_csv('ipl.csv')\n",
    "df.sample(10)"
   ]
  },
  {
   "cell_type": "markdown",
   "id": "5dd088c4-adb8-44cd-a602-088da193f20c",
   "metadata": {},
   "source": [
    "## Data Exploration"
   ]
  },
  {
   "cell_type": "code",
   "execution_count": 3,
   "id": "20566c82-ea4d-4918-a9e3-e9080fb823a3",
   "metadata": {},
   "outputs": [
    {
     "data": {
      "text/plain": [
       "Index(['mid', 'date', 'venue', 'bat_team', 'bowl_team', 'batsman', 'bowler',\n",
       "       'runs', 'wickets', 'overs', 'runs_last_5', 'wickets_last_5', 'striker',\n",
       "       'non-striker', 'total'],\n",
       "      dtype='object')"
      ]
     },
     "execution_count": 3,
     "metadata": {},
     "output_type": "execute_result"
    }
   ],
   "source": [
    "df.columns"
   ]
  },
  {
   "cell_type": "code",
   "execution_count": 4,
   "id": "9e6a62bc-ae06-4218-a353-ceaf5edfa295",
   "metadata": {},
   "outputs": [
    {
     "data": {
      "text/plain": [
       "(76014, 15)"
      ]
     },
     "execution_count": 4,
     "metadata": {},
     "output_type": "execute_result"
    }
   ],
   "source": [
    "df.shape"
   ]
  },
  {
   "cell_type": "code",
   "execution_count": 5,
   "id": "c8258be2-536a-40f1-a092-1338905634d9",
   "metadata": {},
   "outputs": [
    {
     "name": "stdout",
     "output_type": "stream",
     "text": [
      "<class 'pandas.core.frame.DataFrame'>\n",
      "RangeIndex: 76014 entries, 0 to 76013\n",
      "Data columns (total 15 columns):\n",
      " #   Column          Non-Null Count  Dtype  \n",
      "---  ------          --------------  -----  \n",
      " 0   mid             76014 non-null  int64  \n",
      " 1   date            76014 non-null  object \n",
      " 2   venue           76014 non-null  object \n",
      " 3   bat_team        76014 non-null  object \n",
      " 4   bowl_team       76014 non-null  object \n",
      " 5   batsman         76014 non-null  object \n",
      " 6   bowler          76014 non-null  object \n",
      " 7   runs            76014 non-null  int64  \n",
      " 8   wickets         76014 non-null  int64  \n",
      " 9   overs           76014 non-null  float64\n",
      " 10  runs_last_5     76014 non-null  int64  \n",
      " 11  wickets_last_5  76014 non-null  int64  \n",
      " 12  striker         76014 non-null  int64  \n",
      " 13  non-striker     76014 non-null  int64  \n",
      " 14  total           76014 non-null  int64  \n",
      "dtypes: float64(1), int64(8), object(6)\n",
      "memory usage: 8.7+ MB\n"
     ]
    }
   ],
   "source": [
    "df.info()"
   ]
  },
  {
   "cell_type": "code",
   "execution_count": 6,
   "id": "9b78f189-e814-449a-961a-158a5b165d55",
   "metadata": {},
   "outputs": [
    {
     "data": {
      "text/plain": [
       "mid               0\n",
       "date              0\n",
       "venue             0\n",
       "bat_team          0\n",
       "bowl_team         0\n",
       "batsman           0\n",
       "bowler            0\n",
       "runs              0\n",
       "wickets           0\n",
       "overs             0\n",
       "runs_last_5       0\n",
       "wickets_last_5    0\n",
       "striker           0\n",
       "non-striker       0\n",
       "total             0\n",
       "dtype: int64"
      ]
     },
     "execution_count": 6,
     "metadata": {},
     "output_type": "execute_result"
    }
   ],
   "source": [
    "df.isnull().sum()"
   ]
  },
  {
   "cell_type": "markdown",
   "id": "d0426ef1-6d93-4588-bb37-048a25cc579f",
   "metadata": {},
   "source": [
    "no null values in the dataset."
   ]
  },
  {
   "cell_type": "code",
   "execution_count": 7,
   "id": "00866fd7-ff34-4946-a5ba-d23ad1594682",
   "metadata": {},
   "outputs": [
    {
     "data": {
      "text/html": [
       "<div>\n",
       "<style scoped>\n",
       "    .dataframe tbody tr th:only-of-type {\n",
       "        vertical-align: middle;\n",
       "    }\n",
       "\n",
       "    .dataframe tbody tr th {\n",
       "        vertical-align: top;\n",
       "    }\n",
       "\n",
       "    .dataframe thead th {\n",
       "        text-align: right;\n",
       "    }\n",
       "</style>\n",
       "<table border=\"1\" class=\"dataframe\">\n",
       "  <thead>\n",
       "    <tr style=\"text-align: right;\">\n",
       "      <th></th>\n",
       "      <th>mid</th>\n",
       "      <th>date</th>\n",
       "      <th>venue</th>\n",
       "      <th>bat_team</th>\n",
       "      <th>bowl_team</th>\n",
       "      <th>batsman</th>\n",
       "      <th>bowler</th>\n",
       "      <th>runs</th>\n",
       "      <th>wickets</th>\n",
       "      <th>overs</th>\n",
       "      <th>runs_last_5</th>\n",
       "      <th>wickets_last_5</th>\n",
       "      <th>striker</th>\n",
       "      <th>non-striker</th>\n",
       "      <th>total</th>\n",
       "    </tr>\n",
       "  </thead>\n",
       "  <tbody>\n",
       "    <tr>\n",
       "      <th>0</th>\n",
       "      <td>1</td>\n",
       "      <td>2008-04-18</td>\n",
       "      <td>M Chinnaswamy Stadium</td>\n",
       "      <td>Kolkata Knight Riders</td>\n",
       "      <td>Royal Challengers Bangalore</td>\n",
       "      <td>SC Ganguly</td>\n",
       "      <td>P Kumar</td>\n",
       "      <td>1</td>\n",
       "      <td>0</td>\n",
       "      <td>0.1</td>\n",
       "      <td>1</td>\n",
       "      <td>0</td>\n",
       "      <td>0</td>\n",
       "      <td>0</td>\n",
       "      <td>222</td>\n",
       "    </tr>\n",
       "    <tr>\n",
       "      <th>1</th>\n",
       "      <td>1</td>\n",
       "      <td>2008-04-18</td>\n",
       "      <td>M Chinnaswamy Stadium</td>\n",
       "      <td>Kolkata Knight Riders</td>\n",
       "      <td>Royal Challengers Bangalore</td>\n",
       "      <td>BB McCullum</td>\n",
       "      <td>P Kumar</td>\n",
       "      <td>1</td>\n",
       "      <td>0</td>\n",
       "      <td>0.2</td>\n",
       "      <td>1</td>\n",
       "      <td>0</td>\n",
       "      <td>0</td>\n",
       "      <td>0</td>\n",
       "      <td>222</td>\n",
       "    </tr>\n",
       "    <tr>\n",
       "      <th>2</th>\n",
       "      <td>1</td>\n",
       "      <td>2008-04-18</td>\n",
       "      <td>M Chinnaswamy Stadium</td>\n",
       "      <td>Kolkata Knight Riders</td>\n",
       "      <td>Royal Challengers Bangalore</td>\n",
       "      <td>BB McCullum</td>\n",
       "      <td>P Kumar</td>\n",
       "      <td>2</td>\n",
       "      <td>0</td>\n",
       "      <td>0.2</td>\n",
       "      <td>2</td>\n",
       "      <td>0</td>\n",
       "      <td>0</td>\n",
       "      <td>0</td>\n",
       "      <td>222</td>\n",
       "    </tr>\n",
       "    <tr>\n",
       "      <th>3</th>\n",
       "      <td>1</td>\n",
       "      <td>2008-04-18</td>\n",
       "      <td>M Chinnaswamy Stadium</td>\n",
       "      <td>Kolkata Knight Riders</td>\n",
       "      <td>Royal Challengers Bangalore</td>\n",
       "      <td>BB McCullum</td>\n",
       "      <td>P Kumar</td>\n",
       "      <td>2</td>\n",
       "      <td>0</td>\n",
       "      <td>0.3</td>\n",
       "      <td>2</td>\n",
       "      <td>0</td>\n",
       "      <td>0</td>\n",
       "      <td>0</td>\n",
       "      <td>222</td>\n",
       "    </tr>\n",
       "    <tr>\n",
       "      <th>4</th>\n",
       "      <td>1</td>\n",
       "      <td>2008-04-18</td>\n",
       "      <td>M Chinnaswamy Stadium</td>\n",
       "      <td>Kolkata Knight Riders</td>\n",
       "      <td>Royal Challengers Bangalore</td>\n",
       "      <td>BB McCullum</td>\n",
       "      <td>P Kumar</td>\n",
       "      <td>2</td>\n",
       "      <td>0</td>\n",
       "      <td>0.4</td>\n",
       "      <td>2</td>\n",
       "      <td>0</td>\n",
       "      <td>0</td>\n",
       "      <td>0</td>\n",
       "      <td>222</td>\n",
       "    </tr>\n",
       "  </tbody>\n",
       "</table>\n",
       "</div>"
      ],
      "text/plain": [
       "   mid        date                  venue               bat_team  \\\n",
       "0    1  2008-04-18  M Chinnaswamy Stadium  Kolkata Knight Riders   \n",
       "1    1  2008-04-18  M Chinnaswamy Stadium  Kolkata Knight Riders   \n",
       "2    1  2008-04-18  M Chinnaswamy Stadium  Kolkata Knight Riders   \n",
       "3    1  2008-04-18  M Chinnaswamy Stadium  Kolkata Knight Riders   \n",
       "4    1  2008-04-18  M Chinnaswamy Stadium  Kolkata Knight Riders   \n",
       "\n",
       "                     bowl_team      batsman   bowler  runs  wickets  overs  \\\n",
       "0  Royal Challengers Bangalore   SC Ganguly  P Kumar     1        0    0.1   \n",
       "1  Royal Challengers Bangalore  BB McCullum  P Kumar     1        0    0.2   \n",
       "2  Royal Challengers Bangalore  BB McCullum  P Kumar     2        0    0.2   \n",
       "3  Royal Challengers Bangalore  BB McCullum  P Kumar     2        0    0.3   \n",
       "4  Royal Challengers Bangalore  BB McCullum  P Kumar     2        0    0.4   \n",
       "\n",
       "   runs_last_5  wickets_last_5  striker  non-striker  total  \n",
       "0            1               0        0            0    222  \n",
       "1            1               0        0            0    222  \n",
       "2            2               0        0            0    222  \n",
       "3            2               0        0            0    222  \n",
       "4            2               0        0            0    222  "
      ]
     },
     "execution_count": 7,
     "metadata": {},
     "output_type": "execute_result"
    }
   ],
   "source": [
    "df.head()"
   ]
  },
  {
   "cell_type": "code",
   "execution_count": 8,
   "id": "f4375ec4-ec75-438d-b18b-16f1c162586c",
   "metadata": {},
   "outputs": [
    {
     "data": {
      "text/html": [
       "<div>\n",
       "<style scoped>\n",
       "    .dataframe tbody tr th:only-of-type {\n",
       "        vertical-align: middle;\n",
       "    }\n",
       "\n",
       "    .dataframe tbody tr th {\n",
       "        vertical-align: top;\n",
       "    }\n",
       "\n",
       "    .dataframe thead th {\n",
       "        text-align: right;\n",
       "    }\n",
       "</style>\n",
       "<table border=\"1\" class=\"dataframe\">\n",
       "  <thead>\n",
       "    <tr style=\"text-align: right;\">\n",
       "      <th></th>\n",
       "      <th>mid</th>\n",
       "      <th>date</th>\n",
       "      <th>venue</th>\n",
       "      <th>bat_team</th>\n",
       "      <th>bowl_team</th>\n",
       "      <th>batsman</th>\n",
       "      <th>bowler</th>\n",
       "      <th>runs</th>\n",
       "      <th>wickets</th>\n",
       "      <th>overs</th>\n",
       "      <th>runs_last_5</th>\n",
       "      <th>wickets_last_5</th>\n",
       "      <th>striker</th>\n",
       "      <th>non-striker</th>\n",
       "      <th>total</th>\n",
       "    </tr>\n",
       "  </thead>\n",
       "  <tbody>\n",
       "    <tr>\n",
       "      <th>76009</th>\n",
       "      <td>617</td>\n",
       "      <td>2017-05-21</td>\n",
       "      <td>Rajiv Gandhi International Stadium, Uppal</td>\n",
       "      <td>Mumbai Indians</td>\n",
       "      <td>Rising Pune Supergiant</td>\n",
       "      <td>KH Pandya</td>\n",
       "      <td>DT Christian</td>\n",
       "      <td>121</td>\n",
       "      <td>7</td>\n",
       "      <td>19.2</td>\n",
       "      <td>40</td>\n",
       "      <td>0</td>\n",
       "      <td>40</td>\n",
       "      <td>12</td>\n",
       "      <td>129</td>\n",
       "    </tr>\n",
       "    <tr>\n",
       "      <th>76010</th>\n",
       "      <td>617</td>\n",
       "      <td>2017-05-21</td>\n",
       "      <td>Rajiv Gandhi International Stadium, Uppal</td>\n",
       "      <td>Mumbai Indians</td>\n",
       "      <td>Rising Pune Supergiant</td>\n",
       "      <td>KH Pandya</td>\n",
       "      <td>DT Christian</td>\n",
       "      <td>127</td>\n",
       "      <td>7</td>\n",
       "      <td>19.3</td>\n",
       "      <td>46</td>\n",
       "      <td>0</td>\n",
       "      <td>46</td>\n",
       "      <td>12</td>\n",
       "      <td>129</td>\n",
       "    </tr>\n",
       "    <tr>\n",
       "      <th>76011</th>\n",
       "      <td>617</td>\n",
       "      <td>2017-05-21</td>\n",
       "      <td>Rajiv Gandhi International Stadium, Uppal</td>\n",
       "      <td>Mumbai Indians</td>\n",
       "      <td>Rising Pune Supergiant</td>\n",
       "      <td>KH Pandya</td>\n",
       "      <td>DT Christian</td>\n",
       "      <td>128</td>\n",
       "      <td>7</td>\n",
       "      <td>19.4</td>\n",
       "      <td>47</td>\n",
       "      <td>0</td>\n",
       "      <td>47</td>\n",
       "      <td>12</td>\n",
       "      <td>129</td>\n",
       "    </tr>\n",
       "    <tr>\n",
       "      <th>76012</th>\n",
       "      <td>617</td>\n",
       "      <td>2017-05-21</td>\n",
       "      <td>Rajiv Gandhi International Stadium, Uppal</td>\n",
       "      <td>Mumbai Indians</td>\n",
       "      <td>Rising Pune Supergiant</td>\n",
       "      <td>MG Johnson</td>\n",
       "      <td>DT Christian</td>\n",
       "      <td>129</td>\n",
       "      <td>7</td>\n",
       "      <td>19.5</td>\n",
       "      <td>48</td>\n",
       "      <td>0</td>\n",
       "      <td>47</td>\n",
       "      <td>13</td>\n",
       "      <td>129</td>\n",
       "    </tr>\n",
       "    <tr>\n",
       "      <th>76013</th>\n",
       "      <td>617</td>\n",
       "      <td>2017-05-21</td>\n",
       "      <td>Rajiv Gandhi International Stadium, Uppal</td>\n",
       "      <td>Mumbai Indians</td>\n",
       "      <td>Rising Pune Supergiant</td>\n",
       "      <td>KH Pandya</td>\n",
       "      <td>DT Christian</td>\n",
       "      <td>129</td>\n",
       "      <td>8</td>\n",
       "      <td>19.6</td>\n",
       "      <td>47</td>\n",
       "      <td>1</td>\n",
       "      <td>47</td>\n",
       "      <td>13</td>\n",
       "      <td>129</td>\n",
       "    </tr>\n",
       "  </tbody>\n",
       "</table>\n",
       "</div>"
      ],
      "text/plain": [
       "       mid        date                                      venue  \\\n",
       "76009  617  2017-05-21  Rajiv Gandhi International Stadium, Uppal   \n",
       "76010  617  2017-05-21  Rajiv Gandhi International Stadium, Uppal   \n",
       "76011  617  2017-05-21  Rajiv Gandhi International Stadium, Uppal   \n",
       "76012  617  2017-05-21  Rajiv Gandhi International Stadium, Uppal   \n",
       "76013  617  2017-05-21  Rajiv Gandhi International Stadium, Uppal   \n",
       "\n",
       "             bat_team               bowl_team     batsman        bowler  runs  \\\n",
       "76009  Mumbai Indians  Rising Pune Supergiant   KH Pandya  DT Christian   121   \n",
       "76010  Mumbai Indians  Rising Pune Supergiant   KH Pandya  DT Christian   127   \n",
       "76011  Mumbai Indians  Rising Pune Supergiant   KH Pandya  DT Christian   128   \n",
       "76012  Mumbai Indians  Rising Pune Supergiant  MG Johnson  DT Christian   129   \n",
       "76013  Mumbai Indians  Rising Pune Supergiant   KH Pandya  DT Christian   129   \n",
       "\n",
       "       wickets  overs  runs_last_5  wickets_last_5  striker  non-striker  \\\n",
       "76009        7   19.2           40               0       40           12   \n",
       "76010        7   19.3           46               0       46           12   \n",
       "76011        7   19.4           47               0       47           12   \n",
       "76012        7   19.5           48               0       47           13   \n",
       "76013        8   19.6           47               1       47           13   \n",
       "\n",
       "       total  \n",
       "76009    129  \n",
       "76010    129  \n",
       "76011    129  \n",
       "76012    129  \n",
       "76013    129  "
      ]
     },
     "execution_count": 8,
     "metadata": {},
     "output_type": "execute_result"
    }
   ],
   "source": [
    "df.tail()"
   ]
  },
  {
   "cell_type": "code",
   "execution_count": 9,
   "id": "60debfb0-0416-4d4d-81ea-f86b5c63a69f",
   "metadata": {},
   "outputs": [
    {
     "data": {
      "text/plain": [
       "array(['M Chinnaswamy Stadium',\n",
       "       'Punjab Cricket Association Stadium, Mohali', 'Feroz Shah Kotla',\n",
       "       'Wankhede Stadium', 'Eden Gardens', 'Sawai Mansingh Stadium',\n",
       "       'Rajiv Gandhi International Stadium, Uppal',\n",
       "       'MA Chidambaram Stadium, Chepauk', 'Dr DY Patil Sports Academy',\n",
       "       'Newlands', \"St George's Park\", 'Kingsmead', 'SuperSport Park',\n",
       "       'Buffalo Park', 'New Wanderers Stadium', 'De Beers Diamond Oval',\n",
       "       'OUTsurance Oval', 'Brabourne Stadium',\n",
       "       'Sardar Patel Stadium, Motera', 'Barabati Stadium',\n",
       "       'Vidarbha Cricket Association Stadium, Jamtha',\n",
       "       'Himachal Pradesh Cricket Association Stadium', 'Nehru Stadium',\n",
       "       'Holkar Cricket Stadium',\n",
       "       'Dr. Y.S. Rajasekhara Reddy ACA-VDCA Cricket Stadium',\n",
       "       'Subrata Roy Sahara Stadium',\n",
       "       'Shaheed Veer Narayan Singh International Stadium',\n",
       "       'JSCA International Stadium Complex', 'Sheikh Zayed Stadium',\n",
       "       'Sharjah Cricket Stadium', 'Dubai International Cricket Stadium',\n",
       "       'Maharashtra Cricket Association Stadium',\n",
       "       'Punjab Cricket Association IS Bindra Stadium, Mohali',\n",
       "       'Saurashtra Cricket Association Stadium', 'Green Park'],\n",
       "      dtype=object)"
      ]
     },
     "execution_count": 9,
     "metadata": {},
     "output_type": "execute_result"
    }
   ],
   "source": [
    "df['venue'].unique()"
   ]
  },
  {
   "cell_type": "markdown",
   "id": "c26717e9-ed3e-465f-baad-9f37c63ccf9c",
   "metadata": {},
   "source": [
    "the win rate will be more for the respective local team, which can be used to predict who will win. But may not be useful for score predictions."
   ]
  },
  {
   "cell_type": "code",
   "execution_count": 10,
   "id": "546dc13e-184a-4842-894c-62f75fe9a83f",
   "metadata": {},
   "outputs": [
    {
     "data": {
      "text/plain": [
       "dtype('O')"
      ]
     },
     "execution_count": 10,
     "metadata": {},
     "output_type": "execute_result"
    }
   ],
   "source": [
    "df['date'].dtype"
   ]
  },
  {
   "cell_type": "code",
   "execution_count": 11,
   "id": "1062db26-7f84-4176-a3d2-ca1f3fb6a58c",
   "metadata": {},
   "outputs": [
    {
     "data": {
      "text/plain": [
       "0    2008-04-18\n",
       "1    2008-04-18\n",
       "2    2008-04-18\n",
       "3    2008-04-18\n",
       "4    2008-04-18\n",
       "Name: date, dtype: object"
      ]
     },
     "execution_count": 11,
     "metadata": {},
     "output_type": "execute_result"
    }
   ],
   "source": [
    "df['date'].head()"
   ]
  },
  {
   "cell_type": "code",
   "execution_count": 12,
   "id": "19eb90a4-8d24-4968-9ae2-86a75def95fc",
   "metadata": {},
   "outputs": [
    {
     "data": {
      "text/plain": [
       "[array(['Kolkata Knight Riders', 'Chennai Super Kings', 'Rajasthan Royals',\n",
       "        'Mumbai Indians', 'Deccan Chargers', 'Kings XI Punjab',\n",
       "        'Royal Challengers Bangalore', 'Delhi Daredevils',\n",
       "        'Kochi Tuskers Kerala', 'Pune Warriors', 'Sunrisers Hyderabad',\n",
       "        'Rising Pune Supergiants', 'Gujarat Lions',\n",
       "        'Rising Pune Supergiant'], dtype=object)]"
      ]
     },
     "execution_count": 12,
     "metadata": {},
     "output_type": "execute_result"
    }
   ],
   "source": [
    "[df['bat_team'].unique()]"
   ]
  },
  {
   "cell_type": "code",
   "execution_count": 13,
   "id": "1046bda7-d9ab-43e6-9e88-cc76462bf74e",
   "metadata": {},
   "outputs": [
    {
     "data": {
      "text/plain": [
       "array(['Royal Challengers Bangalore', 'Kings XI Punjab',\n",
       "       'Delhi Daredevils', 'Kolkata Knight Riders', 'Rajasthan Royals',\n",
       "       'Mumbai Indians', 'Chennai Super Kings', 'Deccan Chargers',\n",
       "       'Pune Warriors', 'Kochi Tuskers Kerala', 'Sunrisers Hyderabad',\n",
       "       'Rising Pune Supergiants', 'Gujarat Lions',\n",
       "       'Rising Pune Supergiant'], dtype=object)"
      ]
     },
     "execution_count": 13,
     "metadata": {},
     "output_type": "execute_result"
    }
   ],
   "source": [
    "df['bowl_team'].unique()"
   ]
  },
  {
   "cell_type": "markdown",
   "id": "3dc8c5db-e04b-4aac-bfcd-79971f2e8e53",
   "metadata": {},
   "source": [
    "## Data Cleaning\n",
    "\n",
    "1. Remove unrelevant columns\n",
    "2. Convert `date` from string into datetime object\n",
    "3. keep the high performing teams."
   ]
  },
  {
   "cell_type": "code",
   "execution_count": 14,
   "id": "f989dc0e-10e2-4e3a-85cd-da85aa5fc8a6",
   "metadata": {},
   "outputs": [
    {
     "data": {
      "text/plain": [
       "Index(['mid', 'date', 'venue', 'bat_team', 'bowl_team', 'batsman', 'bowler',\n",
       "       'runs', 'wickets', 'overs', 'runs_last_5', 'wickets_last_5', 'striker',\n",
       "       'non-striker', 'total'],\n",
       "      dtype='object')"
      ]
     },
     "execution_count": 14,
     "metadata": {},
     "output_type": "execute_result"
    }
   ],
   "source": [
    "df.columns"
   ]
  },
  {
   "cell_type": "code",
   "execution_count": 15,
   "id": "139278a7-9f21-4d29-8cde-e97af77f6334",
   "metadata": {},
   "outputs": [
    {
     "name": "stdout",
     "output_type": "stream",
     "text": [
      "Shape of the dataframe before dropping columns: (76014, 15)\n",
      "Shape of the dataframe after dropping columns: (76014, 9)\n"
     ]
    }
   ],
   "source": [
    "cols_to_drop = ['mid','venue', 'batsman','bowler','striker','non-striker']\n",
    "\n",
    "print(f\"Shape of the dataframe before dropping columns: {df.shape}\")\n",
    "\n",
    "df.drop(labels=cols_to_drop, axis=1, inplace=True)\n",
    "print(f\"Shape of the dataframe after dropping columns: {df.shape}\")"
   ]
  },
  {
   "cell_type": "code",
   "execution_count": 16,
   "id": "8e6bb45a-5703-4968-b91d-fd3dd58d659b",
   "metadata": {},
   "outputs": [
    {
     "data": {
      "text/plain": [
       "Index(['date', 'bat_team', 'bowl_team', 'runs', 'wickets', 'overs',\n",
       "       'runs_last_5', 'wickets_last_5', 'total'],\n",
       "      dtype='object')"
      ]
     },
     "execution_count": 16,
     "metadata": {},
     "output_type": "execute_result"
    }
   ],
   "source": [
    "df.columns"
   ]
  },
  {
   "cell_type": "code",
   "execution_count": 17,
   "id": "33ee6111-2077-40dd-985c-28fd39f52ef4",
   "metadata": {},
   "outputs": [
    {
     "data": {
      "text/html": [
       "<div>\n",
       "<style scoped>\n",
       "    .dataframe tbody tr th:only-of-type {\n",
       "        vertical-align: middle;\n",
       "    }\n",
       "\n",
       "    .dataframe tbody tr th {\n",
       "        vertical-align: top;\n",
       "    }\n",
       "\n",
       "    .dataframe thead th {\n",
       "        text-align: right;\n",
       "    }\n",
       "</style>\n",
       "<table border=\"1\" class=\"dataframe\">\n",
       "  <thead>\n",
       "    <tr style=\"text-align: right;\">\n",
       "      <th></th>\n",
       "      <th>date</th>\n",
       "      <th>bat_team</th>\n",
       "      <th>bowl_team</th>\n",
       "      <th>runs</th>\n",
       "      <th>wickets</th>\n",
       "      <th>overs</th>\n",
       "      <th>runs_last_5</th>\n",
       "      <th>wickets_last_5</th>\n",
       "      <th>total</th>\n",
       "    </tr>\n",
       "  </thead>\n",
       "  <tbody>\n",
       "    <tr>\n",
       "      <th>2525</th>\n",
       "      <td>2008-05-25</td>\n",
       "      <td>Deccan Chargers</td>\n",
       "      <td>Royal Challengers Bangalore</td>\n",
       "      <td>61</td>\n",
       "      <td>0</td>\n",
       "      <td>7.4</td>\n",
       "      <td>42</td>\n",
       "      <td>0</td>\n",
       "      <td>165</td>\n",
       "    </tr>\n",
       "    <tr>\n",
       "      <th>2061</th>\n",
       "      <td>2008-04-30</td>\n",
       "      <td>Delhi Daredevils</td>\n",
       "      <td>Royal Challengers Bangalore</td>\n",
       "      <td>127</td>\n",
       "      <td>1</td>\n",
       "      <td>13.3</td>\n",
       "      <td>50</td>\n",
       "      <td>0</td>\n",
       "      <td>191</td>\n",
       "    </tr>\n",
       "    <tr>\n",
       "      <th>45686</th>\n",
       "      <td>2013-05-10</td>\n",
       "      <td>Royal Challengers Bangalore</td>\n",
       "      <td>Delhi Daredevils</td>\n",
       "      <td>117</td>\n",
       "      <td>3</td>\n",
       "      <td>16.3</td>\n",
       "      <td>38</td>\n",
       "      <td>1</td>\n",
       "      <td>183</td>\n",
       "    </tr>\n",
       "    <tr>\n",
       "      <th>72747</th>\n",
       "      <td>2017-04-28</td>\n",
       "      <td>Sunrisers Hyderabad</td>\n",
       "      <td>Kings XI Punjab</td>\n",
       "      <td>58</td>\n",
       "      <td>0</td>\n",
       "      <td>5.4</td>\n",
       "      <td>55</td>\n",
       "      <td>0</td>\n",
       "      <td>207</td>\n",
       "    </tr>\n",
       "    <tr>\n",
       "      <th>19875</th>\n",
       "      <td>2010-04-16</td>\n",
       "      <td>Kings XI Punjab</td>\n",
       "      <td>Deccan Chargers</td>\n",
       "      <td>34</td>\n",
       "      <td>1</td>\n",
       "      <td>5.2</td>\n",
       "      <td>33</td>\n",
       "      <td>1</td>\n",
       "      <td>174</td>\n",
       "    </tr>\n",
       "    <tr>\n",
       "      <th>63600</th>\n",
       "      <td>2016-04-20</td>\n",
       "      <td>Royal Challengers Bangalore</td>\n",
       "      <td>Mumbai Indians</td>\n",
       "      <td>79</td>\n",
       "      <td>1</td>\n",
       "      <td>8.6</td>\n",
       "      <td>42</td>\n",
       "      <td>0</td>\n",
       "      <td>170</td>\n",
       "    </tr>\n",
       "    <tr>\n",
       "      <th>41890</th>\n",
       "      <td>2013-04-21</td>\n",
       "      <td>Mumbai Indians</td>\n",
       "      <td>Delhi Daredevils</td>\n",
       "      <td>23</td>\n",
       "      <td>2</td>\n",
       "      <td>5.5</td>\n",
       "      <td>21</td>\n",
       "      <td>2</td>\n",
       "      <td>161</td>\n",
       "    </tr>\n",
       "    <tr>\n",
       "      <th>49910</th>\n",
       "      <td>2014-04-27</td>\n",
       "      <td>Mumbai Indians</td>\n",
       "      <td>Delhi Daredevils</td>\n",
       "      <td>94</td>\n",
       "      <td>5</td>\n",
       "      <td>17.1</td>\n",
       "      <td>39</td>\n",
       "      <td>1</td>\n",
       "      <td>125</td>\n",
       "    </tr>\n",
       "    <tr>\n",
       "      <th>44184</th>\n",
       "      <td>2013-05-02</td>\n",
       "      <td>Royal Challengers Bangalore</td>\n",
       "      <td>Pune Warriors</td>\n",
       "      <td>120</td>\n",
       "      <td>3</td>\n",
       "      <td>15.2</td>\n",
       "      <td>37</td>\n",
       "      <td>2</td>\n",
       "      <td>187</td>\n",
       "    </tr>\n",
       "    <tr>\n",
       "      <th>15082</th>\n",
       "      <td>2010-03-19</td>\n",
       "      <td>Deccan Chargers</td>\n",
       "      <td>Kings XI Punjab</td>\n",
       "      <td>168</td>\n",
       "      <td>8</td>\n",
       "      <td>19.5</td>\n",
       "      <td>44</td>\n",
       "      <td>3</td>\n",
       "      <td>170</td>\n",
       "    </tr>\n",
       "  </tbody>\n",
       "</table>\n",
       "</div>"
      ],
      "text/plain": [
       "             date                     bat_team                    bowl_team  \\\n",
       "2525   2008-05-25              Deccan Chargers  Royal Challengers Bangalore   \n",
       "2061   2008-04-30             Delhi Daredevils  Royal Challengers Bangalore   \n",
       "45686  2013-05-10  Royal Challengers Bangalore             Delhi Daredevils   \n",
       "72747  2017-04-28          Sunrisers Hyderabad              Kings XI Punjab   \n",
       "19875  2010-04-16              Kings XI Punjab              Deccan Chargers   \n",
       "63600  2016-04-20  Royal Challengers Bangalore               Mumbai Indians   \n",
       "41890  2013-04-21               Mumbai Indians             Delhi Daredevils   \n",
       "49910  2014-04-27               Mumbai Indians             Delhi Daredevils   \n",
       "44184  2013-05-02  Royal Challengers Bangalore                Pune Warriors   \n",
       "15082  2010-03-19              Deccan Chargers              Kings XI Punjab   \n",
       "\n",
       "       runs  wickets  overs  runs_last_5  wickets_last_5  total  \n",
       "2525     61        0    7.4           42               0    165  \n",
       "2061    127        1   13.3           50               0    191  \n",
       "45686   117        3   16.3           38               1    183  \n",
       "72747    58        0    5.4           55               0    207  \n",
       "19875    34        1    5.2           33               1    174  \n",
       "63600    79        1    8.6           42               0    170  \n",
       "41890    23        2    5.5           21               2    161  \n",
       "49910    94        5   17.1           39               1    125  \n",
       "44184   120        3   15.2           37               2    187  \n",
       "15082   168        8   19.5           44               3    170  "
      ]
     },
     "execution_count": 17,
     "metadata": {},
     "output_type": "execute_result"
    }
   ],
   "source": [
    "df.sample(10)"
   ]
  },
  {
   "cell_type": "code",
   "execution_count": 18,
   "id": "5d2cccaf-3be2-4347-b2d7-eb0be3e2e528",
   "metadata": {},
   "outputs": [
    {
     "data": {
      "text/plain": [
       "array(['Kolkata Knight Riders', 'Chennai Super Kings', 'Rajasthan Royals',\n",
       "       'Mumbai Indians', 'Deccan Chargers', 'Kings XI Punjab',\n",
       "       'Royal Challengers Bangalore', 'Delhi Daredevils',\n",
       "       'Kochi Tuskers Kerala', 'Pune Warriors', 'Sunrisers Hyderabad',\n",
       "       'Rising Pune Supergiants', 'Gujarat Lions',\n",
       "       'Rising Pune Supergiant'], dtype=object)"
      ]
     },
     "execution_count": 18,
     "metadata": {},
     "output_type": "execute_result"
    }
   ],
   "source": [
    "df['bat_team'].unique()"
   ]
  },
  {
   "cell_type": "code",
   "execution_count": 19,
   "id": "ffbde2da-1641-4713-a81b-4441718c8c51",
   "metadata": {},
   "outputs": [],
   "source": [
    "short_forms = ['kkr','csk','rr','mi','dc','kxip','rcb','dd','ktk','pw','srh','rps','gl']\n",
    "\n",
    "# Create a dictionary to map old names to new short forms\n",
    "mapping = dict(zip(df['bat_team'].unique(), short_forms))"
   ]
  },
  {
   "cell_type": "code",
   "execution_count": 20,
   "id": "525f1cac-f26b-4875-9043-b1ceb0805161",
   "metadata": {},
   "outputs": [
    {
     "data": {
      "text/plain": [
       "{'Kolkata Knight Riders': 'kkr',\n",
       " 'Chennai Super Kings': 'csk',\n",
       " 'Rajasthan Royals': 'rr',\n",
       " 'Mumbai Indians': 'mi',\n",
       " 'Deccan Chargers': 'dc',\n",
       " 'Kings XI Punjab': 'kxip',\n",
       " 'Royal Challengers Bangalore': 'rcb',\n",
       " 'Delhi Daredevils': 'dd',\n",
       " 'Kochi Tuskers Kerala': 'ktk',\n",
       " 'Pune Warriors': 'pw',\n",
       " 'Sunrisers Hyderabad': 'srh',\n",
       " 'Rising Pune Supergiants': 'rps',\n",
       " 'Gujarat Lions': 'gl'}"
      ]
     },
     "execution_count": 20,
     "metadata": {},
     "output_type": "execute_result"
    }
   ],
   "source": [
    "mapping"
   ]
  },
  {
   "cell_type": "code",
   "execution_count": 33,
   "id": "c4eca987-8853-4fc1-be32-a83dd92f3966",
   "metadata": {},
   "outputs": [],
   "source": [
    "# df['bat_team'].rename(columns = mapping,inplace=True)"
   ]
  },
  {
   "cell_type": "code",
   "execution_count": 26,
   "id": "5571101a-0dc1-443e-aea3-3bcc77e06369",
   "metadata": {},
   "outputs": [],
   "source": [
    "df1 = df.copy()"
   ]
  },
  {
   "cell_type": "code",
   "execution_count": 35,
   "id": "c427b901-903c-4039-b330-e72df526f19e",
   "metadata": {},
   "outputs": [],
   "source": [
    "# df1=df1.rename(columns = mapping,inplace=True)\n",
    "# df1['bat_team'].unique()"
   ]
  },
  {
   "cell_type": "code",
   "execution_count": 34,
   "id": "b8e1326a-564b-4c4f-95df-67b36c30d7f9",
   "metadata": {},
   "outputs": [
    {
     "data": {
      "text/plain": [
       "NoneType"
      ]
     },
     "execution_count": 34,
     "metadata": {},
     "output_type": "execute_result"
    }
   ],
   "source": [
    "type(df1)"
   ]
  },
  {
   "cell_type": "code",
   "execution_count": 22,
   "id": "8d7ebbf5-c22b-4ff1-90dd-c0d17e3d2dfb",
   "metadata": {},
   "outputs": [],
   "source": [
    "# df['bat_team'].unique()"
   ]
  },
  {
   "cell_type": "code",
   "execution_count": 23,
   "id": "27697b6b-be47-4fd9-9549-b7563b1cc152",
   "metadata": {},
   "outputs": [],
   "source": [
    "# df['bat_team'].unique()"
   ]
  },
  {
   "cell_type": "code",
   "execution_count": 24,
   "id": "f913d7cc-958e-4c37-bde1-8299a4f1e3da",
   "metadata": {},
   "outputs": [],
   "source": [
    "top_performing_teams = ['kkr','csk','rr','mi','kxip','rcb','dd','srh']"
   ]
  },
  {
   "cell_type": "code",
   "execution_count": null,
   "id": "9be5c508-5b89-4568-903f-9129dc0d542f",
   "metadata": {},
   "outputs": [],
   "source": []
  },
  {
   "cell_type": "markdown",
   "id": "a198679f-5d98-498c-b0fb-5d297e04c2a7",
   "metadata": {},
   "source": [
    "# Docs"
   ]
  },
  {
   "cell_type": "code",
   "execution_count": 25,
   "id": "6708acb0-f533-40de-9c22-0617c76f0f75",
   "metadata": {
    "scrolled": true
   },
   "outputs": [
    {
     "data": {
      "text/plain": [
       "\u001b[1;31mSignature:\u001b[0m\n",
       "\u001b[0mdf\u001b[0m\u001b[1;33m.\u001b[0m\u001b[0mrename\u001b[0m\u001b[1;33m(\u001b[0m\u001b[1;33m\n",
       "\u001b[0m    \u001b[0mmapper\u001b[0m\u001b[1;33m:\u001b[0m \u001b[1;34m'Renamer | None'\u001b[0m \u001b[1;33m=\u001b[0m \u001b[1;32mNone\u001b[0m\u001b[1;33m,\u001b[0m\u001b[1;33m\n",
       "\u001b[0m    \u001b[1;33m*\u001b[0m\u001b[1;33m,\u001b[0m\u001b[1;33m\n",
       "\u001b[0m    \u001b[0mindex\u001b[0m\u001b[1;33m:\u001b[0m \u001b[1;34m'Renamer | None'\u001b[0m \u001b[1;33m=\u001b[0m \u001b[1;32mNone\u001b[0m\u001b[1;33m,\u001b[0m\u001b[1;33m\n",
       "\u001b[0m    \u001b[0mcolumns\u001b[0m\u001b[1;33m:\u001b[0m \u001b[1;34m'Renamer | None'\u001b[0m \u001b[1;33m=\u001b[0m \u001b[1;32mNone\u001b[0m\u001b[1;33m,\u001b[0m\u001b[1;33m\n",
       "\u001b[0m    \u001b[0maxis\u001b[0m\u001b[1;33m:\u001b[0m \u001b[1;34m'Axis | None'\u001b[0m \u001b[1;33m=\u001b[0m \u001b[1;32mNone\u001b[0m\u001b[1;33m,\u001b[0m\u001b[1;33m\n",
       "\u001b[0m    \u001b[0mcopy\u001b[0m\u001b[1;33m:\u001b[0m \u001b[1;34m'bool | None'\u001b[0m \u001b[1;33m=\u001b[0m \u001b[1;32mNone\u001b[0m\u001b[1;33m,\u001b[0m\u001b[1;33m\n",
       "\u001b[0m    \u001b[0minplace\u001b[0m\u001b[1;33m:\u001b[0m \u001b[1;34m'bool'\u001b[0m \u001b[1;33m=\u001b[0m \u001b[1;32mFalse\u001b[0m\u001b[1;33m,\u001b[0m\u001b[1;33m\n",
       "\u001b[0m    \u001b[0mlevel\u001b[0m\u001b[1;33m:\u001b[0m \u001b[1;34m'Level | None'\u001b[0m \u001b[1;33m=\u001b[0m \u001b[1;32mNone\u001b[0m\u001b[1;33m,\u001b[0m\u001b[1;33m\n",
       "\u001b[0m    \u001b[0merrors\u001b[0m\u001b[1;33m:\u001b[0m \u001b[1;34m'IgnoreRaise'\u001b[0m \u001b[1;33m=\u001b[0m \u001b[1;34m'ignore'\u001b[0m\u001b[1;33m,\u001b[0m\u001b[1;33m\n",
       "\u001b[0m\u001b[1;33m)\u001b[0m \u001b[1;33m->\u001b[0m \u001b[1;34m'DataFrame | None'\u001b[0m\u001b[1;33m\u001b[0m\u001b[1;33m\u001b[0m\u001b[0m\n",
       "\u001b[1;31mDocstring:\u001b[0m\n",
       "Rename columns or index labels.\n",
       "\n",
       "Function / dict values must be unique (1-to-1). Labels not contained in\n",
       "a dict / Series will be left as-is. Extra labels listed don't throw an\n",
       "error.\n",
       "\n",
       "See the :ref:`user guide <basics.rename>` for more.\n",
       "\n",
       "Parameters\n",
       "----------\n",
       "mapper : dict-like or function\n",
       "    Dict-like or function transformations to apply to\n",
       "    that axis' values. Use either ``mapper`` and ``axis`` to\n",
       "    specify the axis to target with ``mapper``, or ``index`` and\n",
       "    ``columns``.\n",
       "index : dict-like or function\n",
       "    Alternative to specifying axis (``mapper, axis=0``\n",
       "    is equivalent to ``index=mapper``).\n",
       "columns : dict-like or function\n",
       "    Alternative to specifying axis (``mapper, axis=1``\n",
       "    is equivalent to ``columns=mapper``).\n",
       "axis : {0 or 'index', 1 or 'columns'}, default 0\n",
       "    Axis to target with ``mapper``. Can be either the axis name\n",
       "    ('index', 'columns') or number (0, 1). The default is 'index'.\n",
       "copy : bool, default True\n",
       "    Also copy underlying data.\n",
       "\n",
       "    .. note::\n",
       "        The `copy` keyword will change behavior in pandas 3.0.\n",
       "        `Copy-on-Write\n",
       "        <https://pandas.pydata.org/docs/dev/user_guide/copy_on_write.html>`__\n",
       "        will be enabled by default, which means that all methods with a\n",
       "        `copy` keyword will use a lazy copy mechanism to defer the copy and\n",
       "        ignore the `copy` keyword. The `copy` keyword will be removed in a\n",
       "        future version of pandas.\n",
       "\n",
       "        You can already get the future behavior and improvements through\n",
       "        enabling copy on write ``pd.options.mode.copy_on_write = True``\n",
       "inplace : bool, default False\n",
       "    Whether to modify the DataFrame rather than creating a new one.\n",
       "    If True then value of copy is ignored.\n",
       "level : int or level name, default None\n",
       "    In case of a MultiIndex, only rename labels in the specified\n",
       "    level.\n",
       "errors : {'ignore', 'raise'}, default 'ignore'\n",
       "    If 'raise', raise a `KeyError` when a dict-like `mapper`, `index`,\n",
       "    or `columns` contains labels that are not present in the Index\n",
       "    being transformed.\n",
       "    If 'ignore', existing keys will be renamed and extra keys will be\n",
       "    ignored.\n",
       "\n",
       "Returns\n",
       "-------\n",
       "DataFrame or None\n",
       "    DataFrame with the renamed axis labels or None if ``inplace=True``.\n",
       "\n",
       "Raises\n",
       "------\n",
       "KeyError\n",
       "    If any of the labels is not found in the selected axis and\n",
       "    \"errors='raise'\".\n",
       "\n",
       "See Also\n",
       "--------\n",
       "DataFrame.rename_axis : Set the name of the axis.\n",
       "\n",
       "Examples\n",
       "--------\n",
       "``DataFrame.rename`` supports two calling conventions\n",
       "\n",
       "* ``(index=index_mapper, columns=columns_mapper, ...)``\n",
       "* ``(mapper, axis={'index', 'columns'}, ...)``\n",
       "\n",
       "We *highly* recommend using keyword arguments to clarify your\n",
       "intent.\n",
       "\n",
       "Rename columns using a mapping:\n",
       "\n",
       ">>> df = pd.DataFrame({\"A\": [1, 2, 3], \"B\": [4, 5, 6]})\n",
       ">>> df.rename(columns={\"A\": \"a\", \"B\": \"c\"})\n",
       "   a  c\n",
       "0  1  4\n",
       "1  2  5\n",
       "2  3  6\n",
       "\n",
       "Rename index using a mapping:\n",
       "\n",
       ">>> df.rename(index={0: \"x\", 1: \"y\", 2: \"z\"})\n",
       "   A  B\n",
       "x  1  4\n",
       "y  2  5\n",
       "z  3  6\n",
       "\n",
       "Cast index labels to a different type:\n",
       "\n",
       ">>> df.index\n",
       "RangeIndex(start=0, stop=3, step=1)\n",
       ">>> df.rename(index=str).index\n",
       "Index(['0', '1', '2'], dtype='object')\n",
       "\n",
       ">>> df.rename(columns={\"A\": \"a\", \"B\": \"b\", \"C\": \"c\"}, errors=\"raise\")\n",
       "Traceback (most recent call last):\n",
       "KeyError: ['C'] not found in axis\n",
       "\n",
       "Using axis-style parameters:\n",
       "\n",
       ">>> df.rename(str.lower, axis='columns')\n",
       "   a  b\n",
       "0  1  4\n",
       "1  2  5\n",
       "2  3  6\n",
       "\n",
       ">>> df.rename({1: 2, 2: 4}, axis='index')\n",
       "   A  B\n",
       "0  1  4\n",
       "2  2  5\n",
       "4  3  6\n",
       "\u001b[1;31mFile:\u001b[0m      c:\\users\\saiki\\miniconda3\\envs\\dsml\\lib\\site-packages\\pandas\\core\\frame.py\n",
       "\u001b[1;31mType:\u001b[0m      method"
      ]
     },
     "metadata": {},
     "output_type": "display_data"
    }
   ],
   "source": [
    "df.rename?"
   ]
  }
 ],
 "metadata": {
  "kernelspec": {
   "display_name": "DSML",
   "language": "python",
   "name": "dsml"
  },
  "language_info": {
   "codemirror_mode": {
    "name": "ipython",
    "version": 3
   },
   "file_extension": ".py",
   "mimetype": "text/x-python",
   "name": "python",
   "nbconvert_exporter": "python",
   "pygments_lexer": "ipython3",
   "version": "3.12.4"
  }
 },
 "nbformat": 4,
 "nbformat_minor": 5
}
